{
 "cells": [
  {
   "cell_type": "markdown",
   "metadata": {},
   "source": [
    "# Viewing a matrix as a function\n",
    "\n",
    "### What's a function?\n",
    "\n",
    "- Roughly, we can think of a function as a black box that takes inputs and produces outputs\n",
    "- Functions can be applied to any input-ouput relationship \n",
    "    1. The equation $y = mx + b$ where the input is $x \\in \\mathbb{R}$ and the output is $y \\in \\mathbb{R}$\n",
    "    2. An FM radio: the input to the radio is a specific frequency and the output is the radio station at that frequency\n",
    "    3. Deciding to increase/decrease taxes to improve the economy. The input is passing legislation to increase/decreases taxes and the outputs are unemployment rate, GDP growth, etc.     \n",
    "    4. Pulling the lever in a slot machine. The input is pulling the lever, the outputis the set of symbols the slot machine produces\n",
    "\n",
    "\n",
    "\n",
    "<img src=\"black.png\" alt=\"Drawing\" style=\"width: 500px;\"/>\n",
    "\n",
    "- Comments about the example functions\n",
    "    1. The linear equation produces a unique output for each unique input. Is there an edge-case where this fails?\n",
    "    2. The FM radio will always give us the same radio station for a given input frequency (for example, 88.3 kHz). But the actual content of the output changes over time (the radio will play different songs during the day).\n",
    "    3. This example has a single input but many outputs. Furthermore, while increasing/descreaing taxes may have an impact on the economy, there are many other factors that also influence growth metrics. \n",
    "    4. This is an example where the output is completely indepenent of the input. "
   ]
  },
  {
   "cell_type": "markdown",
   "metadata": {},
   "source": [
    "# The matrix as a linear machine\n",
    "\n",
    "- In this lecture we will view the matrix as describing a very special type of function:\n",
    "    - $f(x) = Ax$ \n",
    "    - where \n",
    "        - $A \\in \\mathbb{R}^{m\\times n}$, \n",
    "        - $x \\in \\mathbb{R}^{n}$\n",
    "        - $y \\in \\mathbb{R}^{m}$ \n",
    "        \n",
    "- In other words, we are going to think about $A \\in \\mathbb{R}^{m\\times n}$ as a function or a \"machine\" that transforms an array of $n$ numbers $x \\in \\mathbb{R}^{n}$ to another array of $m$ numbers $y \\in \\mathbb{R}^{m}$ \n",
    "\n",
    "\n",
    "- We will represent $n$ numbers $x \\in \\mathbb{R}^{n}$ as a column vector (unless otherwise noted):\n",
    "\n",
    "$x = \\begin{bmatrix} x_{1}\\\\  x_{2}\\\\  \\vdots \\\\  x_{n} \\end{bmatrix}$\n",
    "\n",
    "- Similarly we will denote the matrix $A \\in \\mathbb{R}^{m\\times n}$ as:\n",
    "\n",
    "$A = \\begin{bmatrix}\n",
    "a_{1,1} & a_{1,2} & \\cdots & a_{1,n}\\\\ \n",
    "a_{2,1} & a_{2,2} &  \\cdots & \\vdots\\\\ \n",
    "\\vdots &  &  \\ddots & \\vdots\\\\ \n",
    "a_{m,1} &  a_{m,2}& \\cdots & a_{m,n}\n",
    "\\end{bmatrix}$\n",
    "\n",
    "# Matrix-vector multiplication: \"formal\" definition\n",
    "\n",
    "For matrix $A \\in \\mathbb{R}^{m\\times n}$ and a vector $x \\in \\mathbb{R}^{n}$\n",
    "\n",
    "$A = \\begin{bmatrix}\n",
    "a_{1,1} & a_{1,2} & \\cdots & a_{1,n}\\\\ \n",
    "a_{2,1} & a_{2,2} &  \\cdots & \\vdots\\\\ \n",
    "\\vdots &  &  \\ddots & \\vdots\\\\ \n",
    "a_{m,1} &  a_{m,2}& \\cdots & a_{m,n}\n",
    "\\end{bmatrix}$ , $x = \\begin{bmatrix} x_{1}\\\\  x_{2}\\\\  \\vdots \\\\  x_{n} \\end{bmatrix}$\n",
    "\n",
    "\n",
    "### $Ax = \\sum_{i}^{n}\\sum_{j}^{m}a_{j,i}x_{i}$\n",
    "\n",
    "Easy to see we have $O(mn)$ multiplications.\n",
    "\n",
    "# Matrix-vector multiplication viewed as a linear combination of $n$ columns\n",
    "For matrix $A \\in \\mathbb{R}^{m\\times n}$ and a vector $x \\in \\mathbb{R}^{n}$\n",
    "\n",
    "$A = \\begin{bmatrix}\n",
    "a_{1} & a_{2} & \\cdots & a_{n}\n",
    "\\end{bmatrix}$ , where $a_{i} \\in \\mathbb{R}^{m\\times1}$\n",
    "\n",
    "\n",
    "\n",
    "### $y = Ax = \\sum_{i}^{n}a_{i}x_{i}$\n",
    "\n",
    "In this view we can think of matrix multiplication as trying to explain $y$ with a the column vectors of $A$. Each element of $x$ tells us how much of each column of $A$ to mix to get a desired $y$. In this view we are trying to find an $x$ that can be used to express $y$ with the columns of $A$. \n",
    "\n",
    "For example, each column can correspond to a different piano note (so on a full keyboard we would have 88 columns). Each element in $x$ in this case would correspond to selecting which notes to play on the keyboard and at what volume to get a desired chord or overall sound.\n",
    "\n",
    "<img src=\"g_chord.png\" alt=\"Drawing\" style=\"width: 200px;\"/ align = left>\n",
    "\n"
   ]
  },
  {
   "cell_type": "markdown",
   "metadata": {},
   "source": [
    "# Rule 1\n",
    "Description for rule 1.\n",
    "\n",
    "<div style=\"-webkit-column-count: 2; -moz-column-count: 2; column-count: 2; -webkit-column-rule: 1px dotted #e0e0e0; -moz-column-rule: 1px dotted #e0e0e0; column-rule: 1px dotted #e0e0e0;\">\n",
    "    <div style=\"display: inline-block;\">\n",
    "In this view we can think of matrix multiplication as trying to explain $y$ with a the column vectors of $A$. Each element of $x$ tells us how much of each column of $A$ to mix to get a desired $y$. In this view we are trying to find an $x$ that can be used to express $y$ with the columns of $A$. \n",
    "\n",
    "For example, each column can correspond to a different piano note (so on a full keyboard we would have 88 columns). Each element in $x$ in this case would correspond to selecting which notes to play on the keyboard and at what volume to get a desired chord or overall sound.\n",
    "</code></pre>\n",
    "    </div>\n",
    "    <div style=\"display: inline-block;\">\n",
    "        <h2>Bad</h2>\n",
    "        <pre><code class=\"language-c\">int foo (void) {\n",
    "    int i;\n",
    "}\n",
    "</code></pre>\n",
    "    </div>\n",
    "</div>"
   ]
  },
  {
   "cell_type": "markdown",
   "metadata": {},
   "source": [
    "# Matrix-vector multiplication viewed as a projections onto $m$ rows\n",
    "For matrix $A \\in \\mathbb{R}^{m\\times n}$ and a vector $x \\in \\mathbb{R}^{n}$\n",
    "\n",
    "$A = \\begin{bmatrix}\n",
    "a_{1}^{T}\\\\ \n",
    "a_{2}^{T}\\\\ \n",
    "\\vdots \\\\ \n",
    "a_{m}^{T}\n",
    "\\end{bmatrix}$ where $a_{i}^{T} \\in \\mathbb{R}^{1\\times n}$\n",
    "\n",
    "\n",
    "### $Ax = \\begin{bmatrix}\n",
    "a_{1}^{T}x\\\\ \n",
    "a_{2}^{T}x\\\\ \n",
    "\\vdots \\\\ \n",
    "a_{m}^{T}x\n",
    "\\end{bmatrix}$\n",
    "\n",
    "\n",
    "In this view we can think of matrix multiplication as \"untagling\" $x$ into the components of the rows of $A$. The inner product (also known as dot product) operation $a_{i}^{T}x$ tells us how much does $x$ match up with $a_{i}$. The \"larger\" $a_{i}x$ is, the more $x$ is \"expressed\" by $a_{i}$.\n",
    "\n",
    "\n",
    "# Key question about matrices as linear transformations we address in this lecture\n",
    "\n",
    "- What happens when:\n",
    "    - $m < n$? \n",
    "    - $m > n$?\n",
    "    - $m = n$?"
   ]
  },
  {
   "cell_type": "markdown",
   "metadata": {},
   "source": [
    "## Simple base case $m = n = 1$\n",
    "\n",
    "### $y = ax$ \n",
    "\n",
    "- $y , a, x \\in \\mathbb{R}$\n",
    "- In this case, the input and the output is the real number line. \n",
    "- We can think of this linear function as stretching or shrinking the real number line\n",
    "- In this special case, $a$ is also called the slope.\n",
    "\n",
    "### Example: converting inches to centimeters\n",
    "- $y = \\frac{1}{2.54}x$ \n",
    "    - x is in inches and y is in centimeters. This function \"shrinks\" the measurements by a factor of 2.54\n",
    "    \n",
    "Even though this is super basic, lets illustrate it computationally to both get some intuition and get familiar with the libraries we will be using:"
   ]
  },
  {
   "cell_type": "code",
   "execution_count": 1,
   "metadata": {
    "collapsed": false
   },
   "outputs": [
    {
     "name": "stderr",
     "output_type": "stream",
     "text": [
      "Vendor:  Continuum Analytics, Inc.\n",
      "Package: mkl\n",
      "Message: trial mode expires in 26 days\n"
     ]
    }
   ],
   "source": [
    "import numpy as np\n",
    "import matplotlib.pyplot as plt\n",
    "\n",
    "%matplotlib inline"
   ]
  },
  {
   "cell_type": "code",
   "execution_count": 2,
   "metadata": {
    "collapsed": false
   },
   "outputs": [],
   "source": [
    "N = 100                  # Number of measurements\n",
    "x = np.random.randn(N)   # a bunch of measurements in inches\n",
    "y = x/2.54               # the linear machine to transfrom from inches to centimeters"
   ]
  },
  {
   "cell_type": "code",
   "execution_count": 3,
   "metadata": {
    "collapsed": false
   },
   "outputs": [
    {
     "data": {
      "text/plain": [
       "<matplotlib.text.Text at 0x118614ad0>"
      ]
     },
     "execution_count": 3,
     "metadata": {},
     "output_type": "execute_result"
    },
    {
     "data": {
      "image/png": "[encoded data removed]",
      "text/plain": [
       "<matplotlib.figure.Figure at 0x11515b910>"
      ]
     },
     "metadata": {},
     "output_type": "display_data"
    }
   ],
   "source": [
    "plt.figure(figsize=(16, 1))\n",
    "\n",
    "plt.subplot(1,2,1)\n",
    "plt.plot(x, np.zeros_like(x), '.')\n",
    "plt.title(\"The input to the linear machine\")\n",
    "plt.xlabel(\"Measurements made in inches\")\n",
    "plt.yticks([])\n",
    "plt.subplot(1,2,2)\n",
    "plt.plot(y, np.zeros_like(y), '.')\n",
    "plt.yticks([])\n",
    "plt.title(\"The output of the linear machine\")\n",
    "plt.xlabel(\"Measurements made in centimeter\")\n"
   ]
  },
  {
   "cell_type": "markdown",
   "metadata": {},
   "source": [
    "- So the input to this machine (on the left) is just samples from the real number line and the output is also just samples from the real number line. However, as indicated by the scale of the horizontal axis, notice that the output is a *shurnk* version of the input data.\n",
    "- Notice in this example for every input we have a unique output. We can also find for every output what the corresponding input is. In this case we say that the linear function is **one-to-one** or **1-to-1**.\n",
    "- Is this true for every $m=n$ linear function?\n",
    "    - No, not true if $a = 0$, then $y = 0$ for all $x \\in \\mathbb{R}$\n",
    "    \n",
    "- Put another way, for $a \\neq 0$, we have lost no \"information\" but for $a = 0$ we lose information."
   ]
  },
  {
   "cell_type": "markdown",
   "metadata": {},
   "source": [
    "## Special case: m > n = 1\n",
    "\n",
    "### $\\begin{bmatrix}y_{1} \\\\ \\vdots \\\\y_{m} \\end{bmatrix} = \\begin{bmatrix}a_{1}  \\\\ \\vdots \\\\ a_{m} \\end{bmatrix}x$\n",
    "\n",
    "for $x \\in \\mathbb{R}$. In this case the input is a single number (called a **scalar**) that we can think of as just being 1-D. The output is now *multi-dimensional* since we are consider the case $m > 1$. In other words, the input is just 1 number whereas the output is an array of $m$ numbers. We can also write this as\n",
    "\n",
    "### $\\begin{bmatrix}y_{1} \\\\ \\vdots \\\\y_{m} \\end{bmatrix} = \\begin{bmatrix}a_{1}x  \\\\ \\vdots \\\\ a_{m}x \\end{bmatrix}$\n",
    "\n",
    "You might be tempted to think that with this linear machine we have somehow went from a \"1-dimensional\" input to an \"m-dimensional\" output. **However**, as we will soon see, even though the output consists of $m$ numbers, the inherit dimension of the output is still just 1.\n",
    "\n",
    "### m = 2\n",
    "Lets try to get some intuition behind linear machines of this type by considering the case where $m = 2$. In this case we have\n",
    "\n",
    "$\\begin{bmatrix}y_{1} \\\\y_{2} \\end{bmatrix} = \\begin{bmatrix}a_{1} \\\\a_{2} \\end{bmatrix}x$\n",
    "\n",
    "To keep the notation a little less cluttered, lets use $a = a_{1}$ and $b = a_{2}$. In this case, we can write\n",
    "\n",
    "$\\left\\{\\begin{matrix}\n",
    "y_{1} = ax \\\\\n",
    "y_{2} = bx\n",
    "\\end{matrix}\\right.$\n",
    "\n",
    "For now, let's assume that $a \\neq 0$ and $b \\neq 0$. Then, solving for $x$, we find that\n",
    "\n",
    "### $y_{2} = \\frac{b}{a}y_{1}$\n",
    "\n",
    "In other words, $y_{2}$ and $y_{1}$ are linearly dependent on each other! Knowing $y_{1}$ will tell us what $y_{1}$ is. So our linear machine is not taking 1-dimensional number as input and creating 2 sets of totally different numbers. These 2 numbers are related to each other and are not free to be anything they want. Lets illustrate with a concrete example\n",
    "\n",
    "### Example: converting from centimeters to inches *and* feet\n",
    "\n",
    "$\\begin{bmatrix}y_{1} \\\\y_{2} \\end{bmatrix} = \\begin{bmatrix}a_{1} \\\\a_{2} \\end{bmatrix}x$\n",
    "    - x is in inches and y is in centimeters. This function \"shrinks\" the measurements by a factor of 2.54\n",
    "    \n",
    "Even though this is super basic, lets illustrate it computationally to both get some intuition and get familiar with the libraries we will be using:\n",
    "\n"
   ]
  },
  {
   "cell_type": "code",
   "execution_count": 4,
   "metadata": {
    "collapsed": false
   },
   "outputs": [],
   "source": [
    "N = 100                  # Number of measurements\n",
    "x = np.random.randn(N)   # a bunch of measurements in inches\n",
    "A = np.matrix([2.4, 1]).T\n",
    "y = (A*x).T"
   ]
  },
  {
   "cell_type": "code",
   "execution_count": 5,
   "metadata": {
    "collapsed": false
   },
   "outputs": [
    {
     "data": {
      "text/plain": [
       "[<matplotlib.lines.Line2D at 0x118739f10>]"
      ]
     },
     "execution_count": 5,
     "metadata": {},
     "output_type": "execute_result"
    },
    {
     "data": {
      "image/png": "[encoded data removed]",
      "text/plain": [
       "<matplotlib.figure.Figure at 0x11514ce50>"
      ]
     },
     "metadata": {},
     "output_type": "display_data"
    }
   ],
   "source": [
    "plt.plot(y[:,0], y[:,1], '.')"
   ]
  },
  {
   "cell_type": "markdown",
   "metadata": {},
   "source": [
    "## Special case: m = n = 2\n",
    "\n",
    "For this case, both the input and output are 2D vectors:\n",
    "\n",
    "$\\begin{bmatrix} y_{1}\\\\  y_{2} \\end{bmatrix} = \\begin{bmatrix}\n",
    "a & b \\\\ c & d  \\end{bmatrix} \\begin{bmatrix} x_{1}\\\\  x_{2} \\end{bmatrix}$\n",
    "\n",
    "Solving for $x_{2}$ (and assuming $b \\neq 0$), we can write:\n",
    "\n",
    "$y_{2} = \\frac{d}{b}y_{1} + x_{1}(c - \\frac{ad}{b})$\n",
    "\n",
    "Notice that in this case if we have $c - \\frac{ad}{b} = 0$, then $y_{2} = \\frac{d}{b}y_{1}$. In this case we have a situation very similar to the case $m = 2, n = 1$. That is, even though the output is 2D, $y_{1}$ and $y_{2}$ are dependent on each other."
   ]
  },
  {
   "cell_type": "markdown",
   "metadata": {},
   "source": [
    "## Not random input example"
   ]
  },
  {
   "cell_type": "code",
   "execution_count": 6,
   "metadata": {
    "collapsed": false
   },
   "outputs": [],
   "source": [
    "A = np.array([[10,2], \n",
    "              [10,10]])\n",
    "\n",
    "N = 100                  # Number of measurements\n",
    "#x = np.random.randn(N,2)   # a bunch of measurements in inches\n",
    "x1 = np.vstack((np.ones(N).T, np.random.randn(N).T))\n",
    "y1 = np.dot(A.T, x1).T\n",
    "x2 = np.vstack((2*np.ones(N).T, np.random.randn(N).T))\n",
    "y2 = np.dot(A.T, x2).T"
   ]
  },
  {
   "cell_type": "code",
   "execution_count": 7,
   "metadata": {
    "collapsed": false
   },
   "outputs": [
    {
     "data": {
      "text/plain": [
       "<matplotlib.text.Text at 0x1105a0750>"
      ]
     },
     "execution_count": 7,
     "metadata": {},
     "output_type": "execute_result"
    },
    {
     "data": {
      "image/png": "[encoded data removed]",
      "text/plain": [
       "<matplotlib.figure.Figure at 0x11515b490>"
      ]
     },
     "metadata": {},
     "output_type": "display_data"
    }
   ],
   "source": [
    "plt.figure(figsize=(16, 4))\n",
    "plt.subplot(1,2,1)\n",
    "plt.plot(x1[0,:], x1[1,:], '.')\n",
    "plt.plot(x2[0,:], x2[1,:], '.')\n",
    "plt.title(\"The input to the linear machine\")\n",
    "plt.xlabel(\"$x_{1}$\")\n",
    "plt.xlabel(\"$x_{2}$\")\n",
    "\n",
    "\n",
    "plt.subplot(1,2,2)\n",
    "plt.plot(y1[:,0], y1[:,1], '.')\n",
    "plt.plot(y2[:,0], y2[:,1], '.')\n",
    "plt.title(\"The output of the linear machine\")\n",
    "plt.xlabel(\"$y_{1}$\")\n",
    "plt.xlabel(\"$y_{2}$\")"
   ]
  },
  {
   "cell_type": "markdown",
   "metadata": {},
   "source": [
    "## Sets \n",
    "\n",
    "**Defintion of Set $S$:** a collection of items that we refer to as the set $S$    \n",
    "  - **Important**: We assume that set also includes the emtpy set \n",
    "  \n",
    "**Examples:**\n",
    " - $S_{1} = \\mathbb{R}$ (read as: the set of all real numbbers)\n",
    " - $S_{2} = \\{x | x \\in \\mathbb{R}, x > 0$\\} (read as: the set of reals that are positive)\n",
    " - $S_{3} = \\{(x_{1}, \\ldots, x_{n}) | x_{1}, \\ldots, x_{n} \\in \\mathbb{R}, \\Sigma_{i=1}^{n}x_{i}^{2}< 1$\\}\n",
    " - $S_{4}$ = \\{Heads, Tails\\} (read as: the set of either heads or tails\n",
    " \n",
    "Notice that each of these sets can have different properties. In what follows, we try to narrow the range of sets to be of a very specific type: the vector space.\n",
    " \n",
    "\n",
    "## Vector space\n",
    "\n",
    "\n",
    "\n",
    "**Defintion relevant for matrices and linear algebra:**\n",
    "\n",
    "\n",
    "A vector space over $\\mathbb{R}^{n}$ is a set $V$ together with two operations that satisfy the eight axioms listed below.\n",
    "\n",
    "\n",
    "- **Addition** $+ : V \\times V \\rightarrow V$, takes any two vectors $v, w$ and assigns them to a third vector which is commonly written as $z = v + w$ with $z \\in V$ \n",
    "\n",
    "- **Scalar multiplication:** $\\cdot : \\mathbb{R} \\times V \\rightarrow V$, takes any scalar $c \\in \\mathbb{R}$ and any vector $v \\in V$ and gives another vector $cv \\in V$\n",
    "\n",
    "\n",
    "\n",
    "To qualify as a vector space, the set $V$ and the operations of addition and multiplication must adhere to a number of requirements called axioms. In the list below, let $\\mathbf{u}$, $\\mathbf{v}$ and $\\mathbf{w}$ be arbitrary vectors in $V$, and $a$ and $b$ scalars in $\\mathbb{R}$:\n",
    "\n",
    "\n",
    "\n",
    "- **Associativity of addition**: $\\mathbf{u + (v + w) = (u + v) + w}$\n",
    "- **Commutativity of addition**: $\\mathbf{u + v = v + u}$\n",
    "- **Identity element of addition**: There exists an element $\\mathbf{0} \\in V$, such that $\\mathbf{v + 0 = v}$ for all $\\mathbf{v} \\in V$\n",
    "- **Inverse elements of addition**: For every $\\mathbf{v} \\in V$, there exists an element $-\\mathbf{v} \\in V$, called the *additive inverse* of $\\mathbf{v}$, such that $\\mathbf{v + \\left(-v\\right) = 0}$\n",
    "- **Compatibility of scalar multiplication with field multiplication** $a\\left(b\\mathbf{v}\\right) = \\left(ab\\right)\\mathbf{v}$\n",
    "- **Identity element of scalar multiplication**: $\\mathbf{Iv = v}$, where $\\mathbf{I}$ denotes the multiplicative identity in $F$.\n",
    "- **Distributivity of scalar multiplication with respect to vector addition**: $a\\left(\\mathbf{u + v}\\right) = a\\mathbf{u} + a\\mathbf{v}$\n",
    "- **Distributivity of scalar multiplication with respect to scalar addition**: $\\left(a + b\\right)\\mathbf{v} = a\\mathbf{v} + b\\mathbf{v}$\n",
    "\n",
    "\n",
    "\n",
    "\n",
    "## Examples of failed vector spaces\n",
    " \n",
    "**Example 1:** a convex subgraph  \n",
    "\n",
    "<img src=\"convex_subgraph.png\" alt=\"Drawing\" style=\"width: 200px;\"/, align = \"left\">  \n",
    "\n"
   ]
  },
  {
   "cell_type": "markdown",
   "metadata": {},
   "source": [
    "**Example 2:** a unit disk  \n",
    "\n",
    "\n",
    "<img src=\"unit_disc.png\" alt=\"Drawing\" style=\"width: 200px;\"/, align = \"left\">"
   ]
  },
  {
   "cell_type": "markdown",
   "metadata": {},
   "source": [
    "## Examples of actual vector spaces\n",
    "\n",
    "- $\\mathbb{R}$\n",
    "- $\\mathbb{R}^{n}$\n",
    "- $\\mathbb{R}^{m\\times n}$"
   ]
  },
  {
   "cell_type": "markdown",
   "metadata": {},
   "source": [
    "# Subspace\n",
    "Let $V$ be a vector space over $\\mathbb{R}^{n}$, and let $W$ be a subset of $V$. Then $W$ is a **subspace** if:\n",
    "\n",
    " - The zero vector $\\mathbf{0}$, is in $W$.\n",
    " - If $\\mathbf{u}$ and $\\mathbf{v}$ are elements of $W$, then the sum $\\mathbf{u} + \\mathbf{v}$ is an element of $W$.\n",
    " - If $\\mathbf{u}$ is an element of $W$ and $c \\in \\mathbb{R}$, then the scalar product $c\\mathbf{u}$ is an element of $W$.\n",
    "\n",
    "## Examples of legitimate subspaces:\n",
    "\n",
    "- hyperplanes crossing the origin \n",
    "\n",
    "<img src=\"line_origin.png\" alt=\"Drawing\" style=\"width: 200px;\"/, align = \"left\">\n"
   ]
  },
  {
   "cell_type": "markdown",
   "metadata": {},
   "source": [
    "## Examples of failed subspaces:\n",
    "\n",
    "<img src=\"line_intercept.png\" alt=\"Drawing\" style=\"width: 200px;\"/, align = \"left\">\n"
   ]
  },
  {
   "cell_type": "markdown",
   "metadata": {},
   "source": [
    "<img src=\"quad.png\" alt=\"Drawing\" style=\"width: 200px;\"/, align = \"left\">"
   ]
  },
  {
   "cell_type": "markdown",
   "metadata": {},
   "source": [
    "## Linear independent set\n",
    "\n",
    "To show that two vectors $x_{1}$ and $x_{2}$ are linearly independent, we want to know if there exists $\\alpha_{1} \\neq 0$ and $\\alpha_{2} \\neq 0$ so that:\n",
    "\n",
    "$\\alpha_{1}x_{1} + \\alpha_{2}x_{2} \\stackrel{?}{=} 0$\n",
    "\n",
    "$\\frac{\\alpha_{1}}{\\alpha_{2}}x_{1} + x_{2} \\stackrel{?}{=} 0$\n",
    "\n",
    "**Definition:**\n",
    "The vectors in a subset $S = \\{v_{1},v_{2},\\ldots,v_{n}\\}$ of a vector space $V$ are said to be **linearly independent**, if there exist a *finite* number of *distinct* vectors $\\{v_{1},v_{2},\\ldots,v_{k}\\}$ in $S$ and scalars $a_1,a_2,\\ldots,a_k \\in \\mathbb{R}$ , not all zero, such that\n",
    "\n",
    "\n",
    "$a_1v_1 + a_2v_2 + \\cdots +a_kv_k = 0$\n",
    "\n",
    "\n",
    " - Notice that if not all of the scalars are zero, then at least one is non-zero, say $a_1$, in which case this equation can be written in the form\n",
    "\n",
    "$v_1 = \\frac{-a_2}{a_1}v_2 + \\cdots + \\frac{-a_k}{a_1}v_k.$\n",
    "\n",
    "\n",
    " - Thus, $v_1$ is shown to be a linear combination of the remaining vectors.\n",
    "\n",
    "The vectors in a set $T=\\{v_{1},v_{2},\\ldots,v_{n}\\}$ are said to be *linearly independent* if the equation\n",
    "\n",
    "$ a_1v_1 + a_2v_2 + \\cdots +a_kv_k = 0$\n",
    "\n",
    "can only be satisfied by ${\\displaystyle a_{i}=0}$ for $i = 1,\\ldots,n$. This implies that no vector in the set can be represented as a linear combination of the remaining vectors in the set. In other words, a set of vectors is linearly independent if the only representations of $0$ as a linear combination of its vectors is the trivial representation in which all the scalars $a_i$ are zero."
   ]
  },
  {
   "cell_type": "markdown",
   "metadata": {},
   "source": [
    "# Basis set\n",
    "\n",
    "**Definition:**\n",
    "\n",
    "\n",
    "A **basis** $B$ of a vector space $V$ over $\\mathbb{R}^{n}$ is a linearly independent subset of $V$ that spans $V$.\n",
    "\n",
    "That is, suppose that $B = \\{v_1,\\ldots,v_n\\}$ is a finite subset of a vector space $V$. Then $B$ is a basis if it satisfies the following conditions:\n",
    "\n",
    "\n",
    "- **linear independence property**: for all $a_1,\\ldots,a_n \\in \\mathbb{R}^{n}$, if ${a_1}{v_1} + \\ldots + {a_n}{v_n} = 0$, then necessarily $a_1 = \\ldots = a_n = 0$\n",
    "- **spanning property**: for every (vector) $x \\in V$ it is possible to choose $a_1,\\ldots,a_n \\in \\mathbb{R}^{n}$ such that $x = {a_1}{v_1} + \\ldots + {a_n}{v_n}$.\n",
    "\n",
    "\\noindent The numbers $a_i$ are called the coordinates of the vector $x$ with respect to the basis $B$, and by the first property they are uniquely determined.\n",
    "\n"
   ]
  },
  {
   "cell_type": "markdown",
   "metadata": {},
   "source": [
    "# Linear independence and basis example\n",
    "\n",
    "$\\alpha_{1}x_{1} + \\alpha_{2}x_{2} + \\alpha_{3}x_{3} \\stackrel{?}{=} 0$\n",
    "\n",
    "$\\hat{\\alpha_{2}}\\hat{x_{2}} := \\alpha_{2}x_{2} + \\alpha_{3}x_{3}$\n",
    "\n",
    "$\\alpha_{1}x_{1} + \\hat{\\alpha_{2}}\\hat{x_{2}} \\stackrel{?}{=} 0$"
   ]
  },
  {
   "cell_type": "markdown",
   "metadata": {},
   "source": [
    "## The norm\n",
    "\n",
    "**Definition**:\n",
    "\n",
    "Given a vector space $V$ over $\\mathbb{R}^{n}$, a **norm** on $V$ is a function $p: V\\rightarrow \\mathbf{R}$ with the following properties:\n",
    "\n",
    "For all, $c \\in \\mathbb{R}$ and all $u, v \\in V$,\n",
    "\n",
    "\n",
    "- $p\\left(a\\mathbf{v}\\right) = \\left|a\\right|\\, p\\left(\\mathbf{v}\\right)$ \n",
    "- $p\\left(\\mathbf{u} + \\mathbf{v}\\right) \\leq p\\left(\\mathbf{u}\\right) +p\\left(\\mathbf{v}\\right)$ \n",
    "- $p\\left(\\mathbf{v}\\right) \\geq 0$ \n",
    "- If $p\\left(\\mathbf{v}\\right) = 0$ then $\\mathbf{v = 0}$ is the zero vector \n",
    "\n",
    "**Example:** the LP norm\n",
    "\n",
    "$\\displaystyle {\\| x \\|}_p = {\\Bigl(\\sum^{n}_{i=1} {\\bigl|x_i\\bigr|}^p \\Bigr)}^\\frac{1}{p}\\qquad x \\in \\mathbb{R}^{n}, p \\geq 1$"
   ]
  },
  {
   "cell_type": "markdown",
   "metadata": {},
   "source": [
    "## Inner product space\n",
    "\n",
    "**Definition:**\n",
    "An inner product space is a vector space $V$ over $\\mathbb{R}^{n}$ together with an *inner product*, i.e., with a map or function\n",
    "\n",
    "\n",
    "$\\langle \\cdot , \\cdot \\rangle : V \\times V \\rightarrow \\mathbb{R}$\n",
    "\n",
    "That is, when we take two elements from $V$, the inner product is a function that maps to $\\mathbb{R}$ and satisfies the following three axioms for all vectors $x,y,z \\in V$ and all scalars $a \\in \\mathbb{R}$:\n",
    "\n",
    "\n",
    "- Conjugate symmetry: $\\langle x,y \\rangle = \\overline{\\langle y,x \\rangle}$\n",
    "- Linearity in the first argument: $\\langle ax,y \\rangle = a\\langle x,y \\rangle\\\\\n",
    "\\langle x+y,z \\rangle = \\langle x,z \\rangle + \\langle y,z \\rangle$\n",
    "- Positive-definiteness: $\\langle x,x \\rangle \\geq 0\\\\\n",
    "\\langle x,x \\rangle = 0 \\Leftrightarrow x = \\mathbf{0}.$"
   ]
  },
  {
   "cell_type": "markdown",
   "metadata": {
    "collapsed": true
   },
   "source": [
    "## Norms and inner products\n",
    "\n",
    "The inner product and norm can be related as\n",
    "$\\| x \\| = \\sqrt{\\langle x,x \\rangle}$\n",
    "\n",
    "\n",
    "- **Cauchy-Schwarz inequality:** $\\big|\\langle x,y \\rangle \\big| \\leq \\big\\|x\\big\\| \\cdot \\big\\|y\\big\\|$ for $x, y, \\in V$ with equality if and only if $x$ and $y$ are linearly independent. \n",
    "\n",
    "- **Angle:** $\\mathrm{angle}\\left(x,y\\right) = \\arccos \\frac{\\langle x,y \\rangle}{\\|x\\| \\cdot \\|y\\|}.$ We assume the value of the angle is chosen to be in the interval [$0,\\pi$]. This is in analogy to the situation in two-dimensional Euclidean space.\n",
    "\n",
    "- **Orthogonality:** We will say that non-zero vectors $x$ and $y$ of $V$ are orthogonal if and only if their inner product is zero.\n",
    "- **Homogeneity:** $\\|c \\cdot x\\| = |c| \\cdot \\|x\\|$ for $x \\in V$ and $c \\in \\mathbb{R}$ \n",
    "\n",
    "\n",
    "\n",
    "- **Triangle inequality:** $\\|x+y\\| \\leq \\|x\\| + \\|y\\|.$ for $x,y$ elements of $v$\n",
    "\n",
    "\n"
   ]
  },
  {
   "cell_type": "markdown",
   "metadata": {},
   "source": [
    "## \"Deep\" linear machine"
   ]
  },
  {
   "cell_type": "code",
   "execution_count": 19,
   "metadata": {
    "collapsed": false,
    "scrolled": false
   },
   "outputs": [
    {
     "data": {
      "text/plain": [
       "<matplotlib.text.Text at 0x11c3c8bd0>"
      ]
     },
     "execution_count": 19,
     "metadata": {},
     "output_type": "execute_result"
    },
    {
     "data": {
      "image/png": "[encoded data removed]",
      "text/plain": [
       "<matplotlib.figure.Figure at 0x11ba0e190>"
      ]
     },
     "metadata": {},
     "output_type": "display_data"
    }
   ],
   "source": [
    "np.random.seed(11)\n",
    "\n",
    "def linear_machine(input_dim, output_dim = 2, N = 100, depth = 2, input_data = None): \n",
    "    x = np.random.randn(input_dim,N)\n",
    "    B = np.random.randn(input_dim,input_dim)\n",
    "\n",
    "\n",
    "    A = np.random.randn(output_dim,input_dim)\n",
    "\n",
    "    if depth > 0:\n",
    "        z = np.dot(B,x)\n",
    "        for i in range(depth-1):\n",
    "            z = np.dot(B,z)\n",
    "        y = np.dot(A,z)\n",
    "    else:\n",
    "        y = np.dot(A,x)\n",
    "\n",
    "    return y.T\n",
    "\n",
    "\n",
    "plt.figure(figsize=(6, 6))\n",
    "\n",
    "num_layers = 11\n",
    "y = linear_machine(input_dim = 10, depth = num_layers)\n",
    "plt.plot(y[:,0], y[:,1], '.')\n",
    "plt.title(\"The output of the linear machine for depth \" + str(num_layers))\n"
   ]
  },
  {
   "cell_type": "markdown",
   "metadata": {
    "collapsed": true
   },
   "source": [
    "## distances in high dimensions"
   ]
  },
  {
   "cell_type": "code",
   "execution_count": 14,
   "metadata": {
    "collapsed": true
   },
   "outputs": [],
   "source": [
    "from scipy.spatial.distance import pdist, squareform\n",
    "\n",
    "def farthest_to_nearest_neighbors(dim, N = 1000):\n",
    "    x = np.random.randn(dim,N)\n",
    "    #x, _ = make_blobs(n_samples=N, centers=2, n_features=dim, random_state=0, cluster_std=10)\n",
    "    #x = x.T\n",
    "    d = pdist(x.T, 'euclidean')\n",
    "    r = np.max(d)/np.min(d)\n",
    "    return r"
   ]
  },
  {
   "cell_type": "code",
   "execution_count": 15,
   "metadata": {
    "collapsed": false
   },
   "outputs": [
    {
     "name": "stdout",
     "output_type": "stream",
     "text": [
      "CPU times: user 9.53 s, sys: 227 ms, total: 9.76 s\n",
      "Wall time: 9.76 s\n"
     ]
    }
   ],
   "source": [
    "%%time\n",
    "\n",
    "r_s = []\n",
    "for input_dim in range(2,200):\n",
    "    r_s.append(farthest_to_nearest_neighbors(input_dim))"
   ]
  },
  {
   "cell_type": "code",
   "execution_count": 16,
   "metadata": {
    "collapsed": false
   },
   "outputs": [
    {
     "data": {
      "text/plain": [
       "[]"
      ]
     },
     "execution_count": 16,
     "metadata": {},
     "output_type": "execute_result"
    },
    {
     "data": {
      "image/png": "[encoded data removed]",
      "text/plain": [
       "<matplotlib.figure.Figure at 0x11a496890>"
      ]
     },
     "metadata": {},
     "output_type": "display_data"
    }
   ],
   "source": [
    "plt.plot(range(2,200), r_s)\n",
    "plt.semilogy()"
   ]
  },
  {
   "cell_type": "markdown",
   "metadata": {
    "collapsed": true
   },
   "source": [
    "# Singular Value Decomposition\n",
    "\n",
    "**Theorem**: Any matrix $M \\in \\mathbb{R}^{m\\times n}$ can be written as:\n",
    "\n",
    "$\\qquad\\qquad\\qquad\\qquad M = U \\Sigma V^{T}$ \n",
    "\n",
    "where $U$ and $V$ are orthnonormal matrices and $\\Sigma$ is a diagonal matrix.\n",
    "\n",
    "\n",
    "\n",
    "We can think of a matrix $M$ as a linear machine that transforms data from $x \\in \\mathbb{R}^{n}$ to $y \\in \\mathbb{R}^{m}$ as a process of going through three transformations:\n",
    "\n",
    "1. $x$ is projected (or \"expressed\") by the basis set contained in \n",
    "2. f\n",
    "\n",
    "<img src=\"svd.png\" alt=\"Drawing\" style=\"width: 400px;\"/ align=\"left\">"
   ]
  },
  {
   "cell_type": "code",
   "execution_count": 16,
   "metadata": {
    "collapsed": false
   },
   "outputs": [],
   "source": [
    "np.random.seed(111)\n",
    "A = 1*np.random.randn(2,2)"
   ]
  },
  {
   "cell_type": "code",
   "execution_count": 59,
   "metadata": {
    "collapsed": false
   },
   "outputs": [
    {
     "data": {
      "text/plain": [
       "array([ 1.94716169,  0.08844066])"
      ]
     },
     "execution_count": 59,
     "metadata": {},
     "output_type": "execute_result"
    }
   ],
   "source": [
    "U, s, V = np.linalg.svd(A)\n",
    "s"
   ]
  },
  {
   "cell_type": "code",
   "execution_count": 55,
   "metadata": {
    "collapsed": false
   },
   "outputs": [
    {
     "data": {
      "text/plain": [
       "array([[-0.61379775,  0.78946332],\n",
       "       [ 0.78946332,  0.61379775]])"
      ]
     },
     "execution_count": 55,
     "metadata": {},
     "output_type": "execute_result"
    }
   ],
   "source": [
    "U"
   ]
  },
  {
   "cell_type": "code",
   "execution_count": 56,
   "metadata": {
    "collapsed": false
   },
   "outputs": [
    {
     "data": {
      "text/plain": [
       "array([[ 0.96418378, -0.26523506],\n",
       "       [ 0.26523506,  0.96418378]])"
      ]
     },
     "execution_count": 56,
     "metadata": {},
     "output_type": "execute_result"
    }
   ],
   "source": [
    "V"
   ]
  },
  {
   "cell_type": "code",
   "execution_count": 259,
   "metadata": {
    "collapsed": false
   },
   "outputs": [
    {
     "data": {
      "text/plain": [
       "(-1, 1)"
      ]
     },
     "execution_count": 259,
     "metadata": {},
     "output_type": "execute_result"
    },
    {
     "data": {
      "image/png": "[encoded data removed]",
      "text/plain": [
       "<matplotlib.figure.Figure at 0x119999610>"
      ]
     },
     "metadata": {},
     "output_type": "display_data"
    }
   ],
   "source": [
    "width = 4\n",
    "height = 4\n",
    "plt.figure(figsize=(4, 4))\n",
    "plt.plot([0, -1*V[0,0]], [0,-1*V[0,1]])\n",
    "plt.plot([0,V[1,0]], [0,V[1,1]])\n",
    "plt.xlim([-1,1])\n",
    "plt.ylim([-1,1])"
   ]
  },
  {
   "cell_type": "code",
   "execution_count": 58,
   "metadata": {
    "collapsed": false
   },
   "outputs": [
    {
     "data": {
      "text/plain": [
       "(-1, 1)"
      ]
     },
     "execution_count": 58,
     "metadata": {},
     "output_type": "execute_result"
    },
    {
     "data": {
      "image/png": "[encoded data removed]",
      "text/plain": [
       "<matplotlib.figure.Figure at 0x121faf250>"
      ]
     },
     "metadata": {},
     "output_type": "display_data"
    }
   ],
   "source": [
    "width = 4\n",
    "height = 4\n",
    "plt.figure(figsize=(width, height))\n",
    "plt.plot([0, V[0,0]], [0,V[0,1]])\n",
    "plt.plot([0,V[1,0]], [0,V[1,1]])\n",
    "plt.xlim([-1,1])\n",
    "plt.ylim([-1,1])"
   ]
  },
  {
   "cell_type": "code",
   "execution_count": 57,
   "metadata": {
    "collapsed": false
   },
   "outputs": [
    {
     "data": {
      "text/plain": [
       "(-1, 1)"
      ]
     },
     "execution_count": 57,
     "metadata": {},
     "output_type": "execute_result"
    },
    {
     "data": {
      "image/png": "[encoded data removed]",
      "text/plain": [
       "<matplotlib.figure.Figure at 0x1055746d0>"
      ]
     },
     "metadata": {},
     "output_type": "display_data"
    }
   ],
   "source": [
    "width = 4\n",
    "height = 4\n",
    "plt.figure(figsize=(width, height))\n",
    "plt.plot([0, U[0,0]], [0,U[0,1]])\n",
    "plt.plot([0,U[1,0]], [0,U[1,1]])\n",
    "plt.xlim([-1,1])\n",
    "plt.ylim([-1,1])"
   ]
  },
  {
   "cell_type": "code",
   "execution_count": null,
   "metadata": {
    "collapsed": true
   },
   "outputs": [],
   "source": []
  }
 ],
 "metadata": {
  "kernelspec": {
   "display_name": "Python 2",
   "language": "python",
   "name": "python2"
  },
  "language_info": {
   "codemirror_mode": {
    "name": "ipython",
    "version": 2
   },
   "file_extension": ".py",
   "mimetype": "text/x-python",
   "name": "python",
   "nbconvert_exporter": "python",
   "pygments_lexer": "ipython2",
   "version": "2.7.12"
  }
 },
 "nbformat": 4,
 "nbformat_minor": 0
}
