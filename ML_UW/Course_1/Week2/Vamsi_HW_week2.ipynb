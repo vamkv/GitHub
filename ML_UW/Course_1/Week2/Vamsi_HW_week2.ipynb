{
 "cells": [
  {
   "cell_type": "markdown",
   "metadata": {},
   "source": [
    "## Q1"
   ]
  },
  {
   "cell_type": "code",
   "execution_count": 23,
   "metadata": {
    "collapsed": false
   },
   "outputs": [
    {
     "name": "stdout",
     "output_type": "stream",
     "text": [
      "2160606.6\n"
     ]
    }
   ],
   "source": [
    "import graphlab\n",
    "SalesData = graphlab.SFrame('home_data.gl/')\n",
    "ZipSalesData1 = SalesData[(SalesData['zipcode']== '98039')]\n",
    "print ZipSalesData1['price'].mean()"
   ]
  },
  {
   "cell_type": "code",
   "execution_count": 27,
   "metadata": {
    "collapsed": false
   },
   "outputs": [],
   "source": [
    "SqFtSalesData1 = SalesData[(SalesData['sqft_living']>2000) & (SalesData['sqft_living']<=4000)]"
   ]
  },
  {
   "cell_type": "code",
   "execution_count": 47,
   "metadata": {
    "collapsed": false
   },
   "outputs": [
    {
     "data": {
      "text/plain": [
       "0"
      ]
     },
     "execution_count": 47,
     "metadata": {},
     "output_type": "execute_result"
    }
   ],
   "source": [
    "SqFtSalesData1.num_rows()/ SalesData.num_rows()"
   ]
  },
  {
   "cell_type": "code",
   "execution_count": 43,
   "metadata": {
    "collapsed": false
   },
   "outputs": [
    {
     "data": {
      "text/plain": [
       "0.42187572294452413"
      ]
     },
     "execution_count": 43,
     "metadata": {},
     "output_type": "execute_result"
    }
   ],
   "source": [
    "9118./21613"
   ]
  },
  {
   "cell_type": "code",
   "execution_count": 49,
   "metadata": {
    "collapsed": false
   },
   "outputs": [],
   "source": [
    "train_data,test_data = SalesData.random_split(.8,seed=0)\n"
   ]
  },
  {
   "cell_type": "code",
   "execution_count": 61,
   "metadata": {
    "collapsed": false
   },
   "outputs": [
    {
     "name": "stdout",
     "output_type": "stream",
     "text": [
      "PROGRESS: Creating a validation set from 5 percent of training data. This may take a while.\n",
      "          You can set ``validation_set=None`` to disable validation tracking.\n",
      "\n",
      "PROGRESS: Linear regression:\n",
      "PROGRESS: --------------------------------------------------------\n",
      "PROGRESS: Number of examples          : 16521\n",
      "PROGRESS: Number of features          : 6\n",
      "PROGRESS: Number of unpacked features : 6\n",
      "PROGRESS: Number of coefficients    : 115\n",
      "PROGRESS: Starting Newton Method\n",
      "PROGRESS: --------------------------------------------------------\n",
      "PROGRESS: +-----------+----------+--------------+--------------------+----------------------+---------------+-----------------+\n",
      "PROGRESS: | Iteration | Passes   | Elapsed Time | Training-max_error | Validation-max_error | Training-rmse | Validation-rmse |\n",
      "PROGRESS: +-----------+----------+--------------+--------------------+----------------------+---------------+-----------------+\n",
      "PROGRESS: | 1         | 2        | 0.020003     | 2617221.061636     | 3854790.417829       | 178809.111284 | 245796.710056   |\n",
      "PROGRESS: +-----------+----------+--------------+--------------------+----------------------+---------------+-----------------+\n"
     ]
    }
   ],
   "source": [
    "my_features = ['bedrooms', 'bathrooms', 'sqft_living', 'sqft_lot', 'floors', 'zipcode']\n",
    "advanced_features = [\n",
    "'bedrooms', 'bathrooms', 'sqft_living', 'sqft_lot', 'floors', 'zipcode',\n",
    "'condition', # condition of house\t\t\t\t\n",
    "'grade', # measure of quality of construction\t\t\t\t\n",
    "'waterfront', # waterfront property\t\t\t\t\n",
    "'view', # type of view\t\t\t\t\n",
    "'sqft_above', # square feet above ground\t\t\t\t\n",
    "'sqft_basement', # square feet in basement\t\t\t\t\n",
    "'yr_built', # the year built\t\t\t\t\n",
    "'yr_renovated', # the year renovated\t\t\t\t\n",
    "'lat', 'long', # the lat-long of the parcel\t\t\t\t\n",
    "'sqft_living15', # average sq.ft. of 15 nearest neighbors \t\t\t\t\n",
    "'sqft_lot15', # average lot size of 15 nearest neighbors \n",
    "]\n",
    "basic_model = graphlab.linear_regression.create(train_data, target='price',features= my_features)\n"
   ]
  },
  {
   "cell_type": "code",
   "execution_count": 60,
   "metadata": {
    "collapsed": false
   },
   "outputs": [
    {
     "name": "stdout",
     "output_type": "stream",
     "text": [
      "PROGRESS: Creating a validation set from 5 percent of training data. This may take a while.\n",
      "          You can set ``validation_set=None`` to disable validation tracking.\n",
      "\n",
      "PROGRESS: Linear regression:\n",
      "PROGRESS: --------------------------------------------------------\n",
      "PROGRESS: Number of examples          : 16470\n",
      "PROGRESS: Number of features          : 18\n",
      "PROGRESS: Number of unpacked features : 18\n",
      "PROGRESS: Number of coefficients    : 127\n",
      "PROGRESS: Starting Newton Method\n",
      "PROGRESS: --------------------------------------------------------\n",
      "PROGRESS: +-----------+----------+--------------+--------------------+----------------------+---------------+-----------------+\n",
      "PROGRESS: | Iteration | Passes   | Elapsed Time | Training-max_error | Validation-max_error | Training-rmse | Validation-rmse |\n",
      "PROGRESS: +-----------+----------+--------------+--------------------+----------------------+---------------+-----------------+\n",
      "PROGRESS: | 1         | 2        | 0.031998     | 3448080.140352     | 1782071.692453       | 154399.254091 | 160640.258887   |\n",
      "PROGRESS: +-----------+----------+--------------+--------------------+----------------------+---------------+-----------------+\n"
     ]
    }
   ],
   "source": [
    "adv_model = graphlab.linear_regression.create(train_data, target='price',features= advanced_features)"
   ]
  },
  {
   "cell_type": "code",
   "execution_count": 62,
   "metadata": {
    "collapsed": false
   },
   "outputs": [
    {
     "data": {
      "text/plain": [
       "24409.857193000003"
      ]
     },
     "execution_count": 62,
     "metadata": {},
     "output_type": "execute_result"
    }
   ],
   "source": [
    "178809.111284 - 154399.254091"
   ]
  },
  {
   "cell_type": "code",
   "execution_count": null,
   "metadata": {
    "collapsed": true
   },
   "outputs": [],
   "source": []
  }
 ],
 "metadata": {
  "kernelspec": {
   "display_name": "Python 2",
   "language": "python",
   "name": "python2"
  },
  "language_info": {
   "codemirror_mode": {
    "name": "ipython",
    "version": 2
   },
   "file_extension": ".py",
   "mimetype": "text/x-python",
   "name": "python",
   "nbconvert_exporter": "python",
   "pygments_lexer": "ipython2",
   "version": "2.7.10"
  }
 },
 "nbformat": 4,
 "nbformat_minor": 0
}
